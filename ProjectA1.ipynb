{
 "cells": [
  {
   "cell_type": "code",
   "execution_count": 3,
   "metadata": {},
   "outputs": [
    {
     "name": "stdout",
     "output_type": "stream",
     "text": [
      "Requirement already satisfied: requests in c:\\users\\loc\\appdata\\local\\programs\\python\\python310\\lib\\site-packages (2.28.1)\n",
      "Requirement already satisfied: networkx in c:\\users\\loc\\appdata\\local\\programs\\python\\python310\\lib\\site-packages (3.4.2)\n",
      "Requirement already satisfied: charset-normalizer<3,>=2 in c:\\users\\loc\\appdata\\local\\programs\\python\\python310\\lib\\site-packages (from requests) (2.1.1)\n",
      "Requirement already satisfied: idna<4,>=2.5 in c:\\users\\loc\\appdata\\local\\programs\\python\\python310\\lib\\site-packages (from requests) (3.4)\n",
      "Requirement already satisfied: urllib3<1.27,>=1.21.1 in c:\\users\\loc\\appdata\\local\\programs\\python\\python310\\lib\\site-packages (from requests) (1.26.12)\n",
      "Requirement already satisfied: certifi>=2017.4.17 in c:\\users\\loc\\appdata\\local\\programs\\python\\python310\\lib\\site-packages (from requests) (2022.9.14)\n",
      "Note: you may need to restart the kernel to use updated packages.\n"
     ]
    }
   ],
   "source": [
    "pip install requests networkx\n"
   ]
  },
  {
   "cell_type": "code",
   "execution_count": null,
   "metadata": {},
   "outputs": [],
   "source": []
  },
  {
   "cell_type": "markdown",
   "metadata": {},
   "source": [
    "# Bước 1: Chuẩn bị môi trường & API key"
   ]
  },
  {
   "cell_type": "code",
   "execution_count": 4,
   "metadata": {},
   "outputs": [],
   "source": [
    "import json\n",
    "import pandas as pd\n",
    "import re\n",
    "import os\n",
    "from pathlib import Path\n",
    "import time\n",
    "import hashlib\n",
    "from itertools import islice\n",
    "import requests\n",
    "import networkx as nx\n",
    "from dotenv import load_dotenv\n",
    "import  random\n",
    "from itertools import islice\n",
    "import networkx as nx\n",
    "\n"
   ]
  },
  {
   "cell_type": "code",
   "execution_count": 5,
   "metadata": {},
   "outputs": [],
   "source": [
    "# Load API key\n",
    "load_dotenv()\n",
    "API_KEY = os.getenv(\"STEAM_API_KEY\")\n",
    "if not API_KEY:\n",
    "    raise SystemExit(\"Please set STEAM_API_KEY in environment or .env file\")\n",
    "\n",
    "BASE = \"https://api.steampowered.com\"\n",
    "CACHE_DIR = Path(\"steam_cache\")\n",
    "CACHE_DIR.mkdir(exist_ok=True)\n",
    "\n",
    "DELAY_BETWEEN_REQUESTS = 0.5\n",
    "BATCH_SIZE = 50\n",
    "MAX_ACHIEVEMENTS_APPS = 3\n",
    "REQUEST_TIMEOUT = 15\n"
   ]
  },
  {
   "cell_type": "markdown",
   "metadata": {},
   "source": [
    "# STEAM CRAWLER - full functions (cache, API, endpoints, BFS crawler, save outputs)\n",
    "- Cache để tránh request trùng\n",
    "- API request với backoff, skip private\n",
    "- Các endpoint Steam: summaries, friends, owned games, recently played, groups, bans, achievements\n",
    "- BFS crawl nhiều batch, skip user/private, merge cuối cùng\n",
    "- Safe với NetworkX GEXF (loại bỏ NoneType)"
   ]
  },
  {
   "cell_type": "code",
   "execution_count": 6,
   "metadata": {},
   "outputs": [
    {
     "name": "stdout",
     "output_type": "stream",
     "text": [
      "Crawling 76561198294300457 (depth 0) | Visited 0/5000\n",
      "Crawling 76561197973974836 (depth 0) | Visited 1/5000\n",
      "Crawling 76561197993609350 (depth 1) | Visited 2/5000\n",
      "Crawling 76561198046562139 (depth 1) | Visited 3/5000\n",
      "Crawling 76561198061953477 (depth 1) | Visited 4/5000\n",
      "Crawling 76561198062226249 (depth 1) | Visited 5/5000\n",
      "Crawling 76561198076766555 (depth 1) | Visited 6/5000\n",
      "Crawling 76561198077186687 (depth 1) | Visited 7/5000\n",
      "Crawling 76561198097199951 (depth 1) | Visited 8/5000\n",
      "Crawling 76561198109776027 (depth 1) | Visited 9/5000\n",
      "Crawling 76561198110181817 (depth 1) | Visited 10/5000\n",
      "Crawling 76561198116685130 (depth 1) | Visited 11/5000\n",
      "Crawling 76561198120611517 (depth 1) | Visited 12/5000\n",
      "Crawling 76561198128339070 (depth 1) | Visited 13/5000\n",
      "Crawling 76561198134815732 (depth 1) | Visited 14/5000\n",
      "Crawling 76561198135035013 (depth 1) | Visited 15/5000\n",
      "Crawling 76561198138224835 (depth 1) | Visited 16/5000\n",
      "[PRIVATE] skip: {'steamid': '76561198138224835', 'relationship': 'friend', 'key': '576E3386B488C4D0EB51064206A85716'}\n",
      "[PRIVATE] skip: {'steamid': '76561198138224835', 'key': '576E3386B488C4D0EB51064206A85716'}\n",
      "Crawling 76561198142069970 (depth 1) | Visited 17/5000\n",
      "Crawling 76561198142702580 (depth 1) | Visited 18/5000\n",
      "Crawling 76561198150471371 (depth 1) | Visited 19/5000\n",
      "[PRIVATE] skip: {'steamid': '76561198150471371', 'relationship': 'friend', 'key': '576E3386B488C4D0EB51064206A85716'}\n",
      "[PRIVATE] skip: {'steamid': '76561198150471371', 'key': '576E3386B488C4D0EB51064206A85716'}\n",
      "Crawling 76561198150960096 (depth 1) | Visited 20/5000\n",
      "Crawling 76561198152856283 (depth 1) | Visited 21/5000\n",
      "[PRIVATE] skip: {'steamid': '76561198152856283', 'relationship': 'friend', 'key': '576E3386B488C4D0EB51064206A85716'}\n",
      "[PRIVATE] skip: {'steamid': '76561198152856283', 'key': '576E3386B488C4D0EB51064206A85716'}\n",
      "Crawling 76561198153323364 (depth 1) | Visited 22/5000\n",
      "Crawling 76561198161230159 (depth 1) | Visited 23/5000\n",
      "Crawling 76561198176587449 (depth 1) | Visited 24/5000\n",
      "Crawling 76561198180898487 (depth 1) | Visited 25/5000\n",
      "[PRIVATE] skip: {'steamid': '76561198180898487', 'relationship': 'friend', 'key': '576E3386B488C4D0EB51064206A85716'}\n",
      "Crawling 76561198198652406 (depth 1) | Visited 26/5000\n",
      "Crawling 76561198204667263 (depth 1) | Visited 27/5000\n",
      "Crawling 76561198219260845 (depth 1) | Visited 28/5000\n",
      "Crawling 76561198221392168 (depth 1) | Visited 29/5000\n",
      "Crawling 76561198225552700 (depth 1) | Visited 30/5000\n",
      "Crawling 76561198236428718 (depth 1) | Visited 31/5000\n",
      "Crawling 76561198304114917 (depth 1) | Visited 32/5000\n",
      "Crawling 76561198306530488 (depth 1) | Visited 33/5000\n",
      "Crawling 76561198309386073 (depth 1) | Visited 34/5000\n",
      "Crawling 76561198321761802 (depth 1) | Visited 35/5000\n",
      "Crawling 76561198331380646 (depth 1) | Visited 36/5000\n",
      "Crawling 76561198336359964 (depth 1) | Visited 37/5000\n",
      "[PRIVATE] skip: {'steamid': '76561198336359964', 'relationship': 'friend', 'key': '576E3386B488C4D0EB51064206A85716'}\n"
     ]
    }
   ],
   "source": [
    "# %% \n",
    "\"\"\"\n",
    "STEAM CRAWLER - SAFE THROTTLED + CHECKPOINT\n",
    "--------------------------------------------\n",
    "- Cache tránh request trùng\n",
    "- API request với backoff & throttle\n",
    "- BFS crawl nhiều batch\n",
    "- Lưu checkpoint mỗi N user\n",
    "- In progress để theo dõi tiến trình\n",
    "\"\"\"\n",
    "\n",
    "# ================================\n",
    "# Cache utils\n",
    "# ================================\n",
    "CACHE_DIR = Path(\"steam_cache\")\n",
    "CACHE_DIR.mkdir(exist_ok=True)\n",
    "\n",
    "def cache_key(endpoint, params):\n",
    "    s = endpoint + json.dumps(params, sort_keys=True)\n",
    "    return hashlib.sha1(s.encode(\"utf-8\")).hexdigest()\n",
    "\n",
    "def cache_load(endpoint, params):\n",
    "    k = cache_key(endpoint, params)\n",
    "    p = CACHE_DIR / f\"{k}.json\"\n",
    "    if p.exists():\n",
    "        try:\n",
    "            return json.loads(p.read_text(encoding=\"utf-8\"))\n",
    "        except Exception:\n",
    "            return None\n",
    "    return None\n",
    "\n",
    "def cache_save(endpoint, params, data):\n",
    "    k = cache_key(endpoint, params)\n",
    "    p = CACHE_DIR / f\"{k}.json\"\n",
    "    p.write_text(json.dumps(data, ensure_ascii=False, indent=2), encoding=\"utf-8\")\n",
    "\n",
    "# ================================\n",
    "# Config crawl\n",
    "# ================================\n",
    "DELAY_MIN = 1.0\n",
    "DELAY_MAX = 2.0\n",
    "BATCH_SIZE = 50\n",
    "MAX_APPS_PER_USER = 3\n",
    "REQUEST_TIMEOUT = 15\n",
    "CHECKPOINT_EVERY = 50\n",
    "BASE = \"https://api.steampowered.com\"\n",
    "API_KEY = os.getenv(\"STEAM_API_KEY\")\n",
    "\n",
    "# ================================\n",
    "# API request with backoff & throttle\n",
    "# ================================\n",
    "def api_get(endpoint, params, use_cache=True):\n",
    "    params = dict(params)\n",
    "    params[\"key\"] = API_KEY\n",
    "    if use_cache:\n",
    "        cached = cache_load(endpoint, params)\n",
    "        if cached is not None:\n",
    "            return cached\n",
    "\n",
    "    url = f\"{BASE}/{endpoint}\"\n",
    "    backoff = 1.0\n",
    "    for attempt in range(6):\n",
    "        try:\n",
    "            r = requests.get(url, params=params, timeout=REQUEST_TIMEOUT)\n",
    "            if r.status_code == 200:\n",
    "                try: data = r.json()\n",
    "                except ValueError: data = r.text\n",
    "                cache_save(endpoint, params, data)\n",
    "                time.sleep(random.uniform(DELAY_MIN, DELAY_MAX))\n",
    "                return data\n",
    "            elif r.status_code in (429, 503):\n",
    "                time.sleep(backoff + random.uniform(0.1,0.5))\n",
    "                backoff *= 2\n",
    "            elif r.status_code in (401,403):\n",
    "                print(f\"[PRIVATE] skip: {params}\")\n",
    "                return {\"private\": True}\n",
    "            else:\n",
    "                print(f\"[WARN] {r.status_code} from {url} params={params}\")\n",
    "                return None\n",
    "        except requests.RequestException as e:\n",
    "            print(f\"[WARN] Request exception {e}, backoff {backoff}s\")\n",
    "            time.sleep(backoff + random.uniform(0.1,0.5))\n",
    "            backoff *= 2\n",
    "    print(\"[ERROR] Max retries exceeded for\", url)\n",
    "    return None\n",
    "\n",
    "\n",
    "# Helper chunks\n",
    "def chunks(iterable, n):\n",
    "    it = iter(iterable)\n",
    "    while True:\n",
    "        chunk = list(islice(it, n))\n",
    "        if not chunk: break\n",
    "        yield chunk\n",
    "\n",
    "\n",
    "# Steam endpoints\n",
    "def get_player_summaries(steamid_list):\n",
    "    endpoint=\"ISteamUser/GetPlayerSummaries/v0002/\"; results=[]\n",
    "    for batch in chunks(steamid_list,BATCH_SIZE):\n",
    "        params={\"steamids\":\",\".join(batch)}\n",
    "        data=api_get(endpoint,params)\n",
    "        if data and not data.get(\"private\"):\n",
    "            results.extend(data.get(\"response\",{}).get(\"players\",[]))\n",
    "    return results\n",
    "\n",
    "def get_friend_list(steamid):\n",
    "    endpoint=\"ISteamUser/GetFriendList/v0001/\"\n",
    "    params={\"steamid\":steamid,\"relationship\":\"friend\"}\n",
    "    data=api_get(endpoint,params)\n",
    "    if data and data.get(\"private\"): return []\n",
    "    return [f.get(\"steamid\") for f in data.get(\"friendslist\",{}).get(\"friends\",[])] if data else []\n",
    "\n",
    "def get_owned_games(steamid):\n",
    "    endpoint=\"IPlayerService/GetOwnedGames/v0001/\"\n",
    "    params={\"steamid\":steamid,\"include_appinfo\":1,\"include_played_free_games\":1,\"format\":\"json\"}\n",
    "    data=api_get(endpoint,params)\n",
    "    if data and data.get(\"private\"): return {}\n",
    "    return data.get(\"response\",{}) if data else {}\n",
    "\n",
    "def get_recently_played(steamid):\n",
    "    endpoint=\"IPlayerService/GetRecentlyPlayedGames/v0001/\"\n",
    "    params={\"steamid\":steamid}\n",
    "    data=api_get(endpoint,params)\n",
    "    if data and data.get(\"private\"): return {}\n",
    "    return data.get(\"response\",{}) if data else {}\n",
    "\n",
    "def get_user_groups(steamid):\n",
    "    endpoint=\"ISteamUser/GetUserGroupList/v1/\"\n",
    "    params={\"steamid\":steamid}\n",
    "    data=api_get(endpoint,params)\n",
    "    if data and data.get(\"private\"): return []\n",
    "    return data.get(\"response\",{}).get(\"groups\",[]) if data else []\n",
    "\n",
    "def get_player_bans(steamid_list):\n",
    "    endpoint=\"ISteamUser/GetPlayerBans/v1/\"; results=[]\n",
    "    for batch in chunks(steamid_list,BATCH_SIZE):\n",
    "        params={\"steamids\":\",\".join(batch)}\n",
    "        data=api_get(endpoint,params)\n",
    "        if data and not data.get(\"private\"): results.extend(data.get(\"players\",[]))\n",
    "    return results\n",
    "\n",
    "def get_player_achievements(steamid,appid):\n",
    "    endpoint=\"ISteamUserStats/GetPlayerAchievements/v1/\"\n",
    "    params={\"steamid\":steamid,\"appid\":appid}\n",
    "    data=api_get(endpoint,params)\n",
    "    if data and data.get(\"private\"): return {}\n",
    "    return data.get(\"playerstats\",{}) if data else {}\n",
    "\n",
    "def resolve_vanity(name):\n",
    "    endpoint=\"ISteamUser/ResolveVanityURL/v0001/\"\n",
    "    params={\"vanityurl\":name}\n",
    "    data=api_get(endpoint,params)\n",
    "    if data and data.get(\"response\",{}).get(\"success\")==1:\n",
    "        return data[\"response\"].get(\"steamid\")\n",
    "    return None\n",
    "\n",
    "# Load existing profiles\n",
    "def load_existing_profiles(json_path):\n",
    "    if Path(json_path).exists():\n",
    "        with open(json_path,\"r\",encoding=\"utf-8\") as f:\n",
    "            data=json.load(f)\n",
    "        return set(data.keys()), data\n",
    "    return set(), {}\n",
    "\n",
    "# Save outputs\n",
    "def save_outputs(G, profiles, out_prefix=\"steam_output\"):\n",
    "    # Clean node attributes\n",
    "    for n, data in G.nodes(data=True):\n",
    "        for k, v in list(data.items()):\n",
    "            if v is None: data[k] = \"\"\n",
    "            elif isinstance(v,(list,dict)): data[k]=str(v)\n",
    "    json_path=f\"{out_prefix}_profiles1.json\"\n",
    "    with open(json_path,\"w\",encoding=\"utf-8\") as f: json.dump(profiles,f,indent=2,ensure_ascii=False)\n",
    "    gexf_path=f\"{out_prefix}_graph1.gexf\"\n",
    "    nx.write_gexf(G,gexf_path)\n",
    "    print(f\"[Saved] profiles -> {json_path}\")\n",
    "    print(f\"[Saved] graph -> {gexf_path}\")\n",
    "\n",
    "\n",
    "# BFS crawler with checkpoint\n",
    "def crawl(seed_ids, depth=1, max_users=1000, max_apps_per_user=3, visited_global=None, save_prefix=\"steam_output\", fetch_achievements=True):\n",
    "    G = nx.Graph()\n",
    "    visited_global = visited_global or set()\n",
    "    queue = [(s,0) for s in seed_ids]\n",
    "    all_profiles = {}\n",
    "    stats = {\"public\":0,\"private\":0,\"skipped\":0}\n",
    "\n",
    "    while queue and len(visited_global)<max_users:\n",
    "        steamid, d = queue.pop(0)\n",
    "        if steamid in visited_global or d>depth: continue\n",
    "        if not steamid.isdigit(): steamid=resolve_vanity(steamid) or steamid\n",
    "        if not steamid.isdigit(): stats[\"skipped\"]+=1; continue\n",
    "\n",
    "        print(f\"Crawling {steamid} (depth {d}) | Visited {len(visited_global)}/{max_users}\")\n",
    "\n",
    "        players = get_player_summaries([steamid])\n",
    "        if not players:\n",
    "            stats[\"private\"]+=1\n",
    "            visited_global.add(steamid)\n",
    "            continue\n",
    "\n",
    "        player = players[0]\n",
    "        visited_global.add(steamid)\n",
    "        stats[\"public\"]+=1\n",
    "        all_profiles[steamid] = player\n",
    "\n",
    "        G.add_node(steamid,label=player.get(\"personaname\",\"\"),\n",
    "                   avatar=player.get(\"avatarfull\",\"\"),\n",
    "                   country=player.get(\"loccountrycode\",\"\"))\n",
    "\n",
    "        friends = get_friend_list(steamid)\n",
    "        for f in friends:\n",
    "            G.add_edge(steamid,f)\n",
    "            if f not in visited_global and d+1<=depth:\n",
    "                queue.append((f,d+1))\n",
    "\n",
    "        owned = get_owned_games(steamid)\n",
    "        recent = get_recently_played(steamid)\n",
    "        groups = get_user_groups(steamid)\n",
    "\n",
    "        G.nodes[steamid][\"owned_game_count\"] = owned.get(\"game_count\",0)\n",
    "        G.nodes[steamid][\"recent_count\"] = recent.get(\"total_count\",0)\n",
    "        G.nodes[steamid][\"groups\"] = [g.get(\"groupid64\") for g in groups] if groups else []\n",
    "\n",
    "        apps = owned.get(\"games\",[]) if isinstance(owned,dict) else []\n",
    "        top_apps = sorted(apps, key=lambda x:x.get(\"playtime_forever\",0), reverse=True)[:max_apps_per_user]\n",
    "        G.nodes[steamid][\"top_apps\"] = [a.get(\"appid\") for a in top_apps]\n",
    "\n",
    "        # Achievements (optional, tốn thời gian)\n",
    "        if fetch_achievements:\n",
    "            achievements={}\n",
    "            for app in top_apps: achievements[app.get(\"appid\")] = get_player_achievements(steamid, app.get(\"appid\"))\n",
    "            G.nodes[steamid][\"achievements_sample\"] = achievements\n",
    "\n",
    "        # Checkpoint every N users\n",
    "        if len(visited_global) % CHECKPOINT_EVERY == 0:\n",
    "            save_outputs(G, all_profiles, out_prefix=f\"{save_prefix}_partial\")\n",
    "            print(f\"[Checkpoint] Saved after {len(visited_global)} users\")\n",
    "\n",
    "    # Final bans\n",
    "    bans = get_player_bans(list(visited_global))\n",
    "    bans_map = {b[\"SteamId\"]:b for b in bans}\n",
    "    for node in G.nodes:\n",
    "        G.nodes[node][\"ban_info\"] = bans_map.get(node,{})\n",
    "\n",
    "    save_outputs(G, all_profiles, out_prefix=save_prefix)\n",
    "    print(f\"Stats: {stats}\")\n",
    "    return G, all_profiles, visited_global\n",
    "\n",
    "\n",
    "# Example run\n",
    "visited_prev, profiles_prev = load_existing_profiles(\"steam_output_test_profiles1.json\")\n",
    "SEEDS = [\"76561198294300457\",\"76561197973974836\"]  # Thay bằng steamid của bạn\n",
    "\n",
    "G_new, profiles_new, visited_new = crawl(\n",
    "    SEEDS,\n",
    "    depth=2,\n",
    "    max_users=5000,\n",
    "    max_apps_per_user=3,\n",
    "    visited_global=visited_prev,\n",
    "    save_prefix=\"steam_output\",\n",
    "    fetch_achievements=False  # Test nhanh trước\n",
    ")\n"
   ]
  },
  {
   "cell_type": "markdown",
   "metadata": {},
   "source": [
    "--------------------------------------------------------------------------------------------------------------------------"
   ]
  },
  {
   "cell_type": "markdown",
   "metadata": {},
   "source": [
    "# Phân loại category cho steam_cache (game, group, friends, summaries, achievements)"
   ]
  },
  {
   "cell_type": "code",
   "execution_count": null,
   "metadata": {},
   "outputs": [
    {
     "name": "stdout",
     "output_type": "stream",
     "text": [
      "✅ Đã gộp 1502 file từ steam_cache/games vào merged_games.json\n",
      "✅ Đã gộp 1951 file từ steam_cache/summaries vào merged_summaries.json\n",
      "✅ Đã gộp 491 file từ steam_cache/achievements vào merged_achievements.json\n",
      "✅ Đã gộp 1583 file từ steam_cache/friends vào merged_friends.json\n",
      "✅ Đã gộp 1800 file từ steam_cache/groups vào merged_groups.json\n"
     ]
    }
   ],
   "source": [
    "import os\n",
    "import json\n",
    "\n",
    "def merge_json_files(input_dir, output_file):\n",
    "\n",
    "    merged_data = {}\n",
    "\n",
    "    for filename in os.listdir(input_dir):\n",
    "        if filename.endswith(\".json\"):\n",
    "            file_path = os.path.join(input_dir, filename)\n",
    "            try:\n",
    "                with open(file_path, \"r\", encoding=\"utf-8\") as f:\n",
    "                    data = json.load(f)\n",
    "\n",
    "                    # Nếu dữ liệu có steamid thì dùng làm key\n",
    "                    steamid = data.get(\"steamid\") or data.get(\"id\") or filename\n",
    "                    merged_data[steamid] = data\n",
    "\n",
    "            except json.JSONDecodeError:\n",
    "                print(f\" Lỗi đọc JSON: {file_path}, bỏ qua...\")\n",
    "            except Exception as e:\n",
    "                print(f\" Lỗi khác với file {file_path}: {e}\")\n",
    "\n",
    "    # Lưu lại thành 1 file JSON duy nhất\n",
    "    with open(output_file, \"w\", encoding=\"utf-8\") as out:\n",
    "        json.dump(merged_data, out, ensure_ascii=False, indent=2)\n",
    "\n",
    "    print(f\" Đã gộp {len(merged_data)} file từ {input_dir} vào {output_file}\")\n",
    "\n",
    "merge_json_files(\"steam_cache/games\", \"merged_games.json\")\n",
    "merge_json_files(\"steam_cache/summaries\", \"merged_summaries.json\")\n",
    "merge_json_files(\"steam_cache/achievements\", \"merged_achievements.json\")\n",
    "merge_json_files(\"steam_cache/friends\", \"merged_friends.json\")\n",
    "merge_json_files(\"steam_cache/groups\", \"merged_groups.json\")\n"
   ]
  },
  {
   "cell_type": "markdown",
   "metadata": {},
   "source": [
    "---------------------------------------------------------------------------------------------------------------"
   ]
  },
  {
   "cell_type": "markdown",
   "metadata": {},
   "source": [
    "## CHUẨN HÓA CÁC FILE THÀNH CHUẨN CSV"
   ]
  },
  {
   "cell_type": "markdown",
   "metadata": {},
   "source": [
    "CHUẨN HÓA FILE games.json\n"
   ]
  },
  {
   "cell_type": "code",
   "execution_count": null,
   "metadata": {},
   "outputs": [
    {
     "name": "stdout",
     "output_type": "stream",
     "text": [
      "✅ Đã lưu 231102 dòng vào games_flat.csv\n"
     ]
    }
   ],
   "source": [
    "import json\n",
    "import pandas as pd\n",
    "\n",
    "#  1. Đọc file JSON gốc \n",
    "with open(\"steam_cache/steam_cache_json/games.json\", \"r\", encoding=\"utf-8\") as f:  # thay đường dẫn vào đây\n",
    "    data = json.load(f)\n",
    "\n",
    "rows = []\n",
    "\n",
    "# 2. Duyệt qua từng user (key = sha1_id)\n",
    "for sha1_id, content in data.items():\n",
    "    resp = content.get(\"response\", {})\n",
    "    games = resp.get(\"games\", [])\n",
    "    \n",
    "    for g in games:\n",
    "        rows.append({\n",
    "            \"sha1_id\": sha1_id,\n",
    "            \"appid\": g.get(\"appid\"),\n",
    "            \"name\": g.get(\"name\"),\n",
    "            \"playtime_forever\": g.get(\"playtime_forever\"),\n",
    "            \"playtime_2weeks\": g.get(\"playtime_2weeks\"),\n",
    "            \"img_icon_url\": g.get(\"img_icon_url\"),\n",
    "            \"content_descriptorids\": \",\".join(map(str, g.get(\"content_descriptorids\", [])))\n",
    "        })\n",
    "\n",
    "# 3. Chuyển sang DataFrame \n",
    "df = pd.DataFrame(rows)\n",
    "\n",
    "#  4. Xuất ra CSV \n",
    "df.to_csv(\"games_flat.csv\", index=False, encoding=\"utf-8-sig\")\n",
    "\n",
    "print(f\"Đã lưu {len(df)} dòng vào games_flat.csv\")\n"
   ]
  },
  {
   "cell_type": "markdown",
   "metadata": {},
   "source": [
    "CHUẨN HÓA FILE FRIENDS"
   ]
  },
  {
   "cell_type": "code",
   "execution_count": 10,
   "metadata": {},
   "outputs": [
    {
     "name": "stdout",
     "output_type": "stream",
     "text": [
      "Bắt đầu đọc dữ liệu từ: steam_cache/steam_cache_json/friends.json...\n",
      "------------------------------------------------------------\n",
      "✅ THÀNH CÔNG: Dữ liệu (283784 hàng) đã được chuyển đổi và lưu vào file 'friends1.csv'.\n",
      "------------------------------------------------------------\n"
     ]
    }
   ],
   "source": [
    "import json\n",
    "import pandas as pd\n",
    "import os\n",
    "\n",
    "def friends_json_to_csv(input_filepath, output_filepath='all_users_friends_flattened.csv'):\n",
    "    \n",
    "    # 1. Kiểm tra file đầu vào\n",
    "    if not os.path.exists(input_filepath):\n",
    "        print(f\" Không tìm thấy file JSON : {input_filepath}\")\n",
    "        return\n",
    "    \n",
    "    # 2. Đọc và tải dữ liệu JSON\n",
    "    try:\n",
    "        with open(input_filepath, 'r', encoding='utf-8') as f:\n",
    "            data = json.load(f)\n",
    "    except json.JSONDecodeError as e:\n",
    "        print(f\" Lỗi phân tích JSON trong file. Vui lòng kiểm tra định dạng: {e}\")\n",
    "        return\n",
    "    except Exception as e:\n",
    "        print(f\"Lỗi khi đọc file: {e}\")\n",
    "        return\n",
    "    \n",
    "    # 3. Chuẩn bị danh sách chứa dữ liệu phẳng\n",
    "    flat_data = []\n",
    "\n",
    "    # 4. Lặp qua từng người dùng (key là SHA-1 ID)\n",
    "    # Key này chính là định danh của người dùng sở hữu danh sách bạn bè (Owner)\n",
    "    for owner_id_key, content in data.items():\n",
    "        steamID_Owner = owner_id_key.replace(\".json\", \"\")\n",
    "        \n",
    "        # Đảm bảo cấu trúc 'friendslist' và 'friends'\n",
    "        if content and 'friendslist' in content and 'friends' in content['friendslist']:\n",
    "            \n",
    "            # 5. Lặp qua danh sách bạn bè\n",
    "            for friend in content['friendslist']['friends']:\n",
    "                row = {\n",
    "                    'steamID_Owner': steamID_Owner,\n",
    "                    'steamid_Friend': friend.get('steamid'),\n",
    "                    'relationship': friend.get('relationship'),\n",
    "                    'friend_since': friend.get('friend_since')\n",
    "                }\n",
    "                flat_data.append(row)\n",
    "\n",
    "    # 6. Tạo DataFrame Pandas và ghi ra CSV\n",
    "    df = pd.DataFrame(flat_data)\n",
    "    \n",
    "    if not df.empty:\n",
    "        df.to_csv(output_filepath, index=False)\n",
    "        print(\"-\" * 60)\n",
    "        print(f\"  Dữ liệu ({len(df)} hàng) đã được chuyển đổi và lưu vào file '{output_filepath}'.\")\n",
    "        print(\"-\" * 60)\n",
    "    else:\n",
    "        print(\"Không tìm thấy mối quan hệ bạn bè nào để ghi ra CSV.\")\n",
    "\n",
    "\n",
    "# --- CẤU HÌNH THỰC THI ---\n",
    "# THAY THẾ đường dẫn dưới đây bằng đường dẫn chính xác của file JSON gốc của bạn\n",
    "INPUT_FILE = 'steam_cache/steam_cache_json/friends.json'\n",
    "OUTPUT_FILE = 'friends1.csv'\n",
    "\n",
    "# Thực thi hàm chuyển đổi\n",
    "friends_json_to_csv(INPUT_FILE, OUTPUT_FILE)"
   ]
  },
  {
   "cell_type": "markdown",
   "metadata": {},
   "source": [
    "CHUẨN HÓA FILE Achievements"
   ]
  },
  {
   "cell_type": "code",
   "execution_count": 9,
   "metadata": {},
   "outputs": [
    {
     "name": "stdout",
     "output_type": "stream",
     "text": [
      "Bắt đầu đọc dữ liệu từ: steam_cache/steam_cache_json/achievements.json...\n",
      "------------------------------------------------------------\n",
      "✅ THÀNH CÔNG: Dữ liệu (33839 hàng) đã được chuyển đổi và lưu vào file 'achievements1.csv'.\n",
      "------------------------------------------------------------\n"
     ]
    }
   ],
   "source": [
    "import json\n",
    "import pandas as pd\n",
    "import os\n",
    "\n",
    "def flatten_json_file_to_csv(input_filepath, output_filepath):\n",
    "   \n",
    "    # 1. Kiểm tra file đầu vào\n",
    "    if not os.path.exists(input_filepath):\n",
    "        print(f\" Không tìm thấy file JSON tại đường dẫn: {input_filepath}\")\n",
    "        return\n",
    "\n",
    "    print(f\"Bắt đầu đọc dữ liệu từ: {input_filepath}...\")\n",
    "    \n",
    "    # 2. Đọc và tải dữ liệu JSON\n",
    "    try:\n",
    "        with open(input_filepath, 'r', encoding='utf-8') as f:\n",
    "            data = json.load(f)\n",
    "    except json.JSONDecodeError as e:\n",
    "        print(f\"Lỗi phân tích JSON trong file: {e}\")\n",
    "        return\n",
    "    except Exception as e:\n",
    "        print(f\" Lỗi khi đọc file: {e}\")\n",
    "        return\n",
    "    \n",
    "    # 3. Chuẩn bị danh sách chứa dữ liệu phẳng\n",
    "    flat_data = []\n",
    "\n",
    "    # 4. Lặp qua từng mục (\n",
    "    # 'data' là một dictionary, với key là tên file và value là nội dung \n",
    "    for file_name, file_content in data.items():\n",
    "        \n",
    "        # Đảm bảo cấu trúc cần thiết tồn tại\n",
    "        if file_content and 'playerstats' in file_content:\n",
    "            playerstats = file_content['playerstats']\n",
    "            \n",
    "            # Trích xuất các trường cấp trên (lặp lại)\n",
    "            steam_id = playerstats.get('steamID')\n",
    "            game_name = playerstats.get('gameName')\n",
    "            \n",
    "            # Chỉ xử lý nếu có danh sách thành tích\n",
    "            if 'achievements' in playerstats and playerstats['achievements'] is not None:\n",
    "                \n",
    "                # 5. Lặp qua từng thành tích\n",
    "                for achievement in playerstats['achievements']:\n",
    "                    row = {\n",
    "                        'steamID': steam_id,\n",
    "                        'gameName': game_name,\n",
    "                        'apiname': achievement.get('apiname'),\n",
    "                        'achieved': achievement.get('achieved'),\n",
    "                        'unlocktime': achievement.get('unlocktime')\n",
    "                    }\n",
    "                    flat_data.append(row)\n",
    "\n",
    "    # 6. Tạo DataFrame Pandas\n",
    "    df = pd.DataFrame(flat_data)\n",
    "    \n",
    "    # 7. Ghi DataFrame ra file CSV\n",
    "    if not df.empty:\n",
    "        df.to_csv(output_filepath, index=False)\n",
    "        print(\"-\" * 60)\n",
    "        print(f\"THÀNH CÔNG: Dữ liệu ({len(df)} hàng) đã được chuyển đổi và lưu vào file '{output_filepath}'.\")\n",
    "        print(\"-\" * 60)\n",
    "    else:\n",
    "        print(\" Cảnh báo: Không tìm thấy thành tích nào để ghi ra CSV.\")\n",
    "\n",
    "\n",
    "# --- CẤU HÌNH ---\n",
    "# THAY THẾ 'ten_file_json_goc_cua_ban.json' BẰNG TÊN FILE CỦA BẠN!\n",
    "INPUT_FILE = 'steam_cache/steam_cache_json/achievements.json'\n",
    "OUTPUT_FILE = 'achievements1.csv'\n",
    "\n",
    "# Thực thi hàm chuyển đổi\n",
    "# *Lưu ý: Đặt file JSON gốc vào cùng thư mục với file Python này, hoặc cung cấp đường dẫn đầy đủ.*\n",
    "flatten_json_file_to_csv(INPUT_FILE, OUTPUT_FILE)"
   ]
  },
  {
   "cell_type": "markdown",
   "metadata": {},
   "source": [
    "chuẩn hóa group"
   ]
  },
  {
   "cell_type": "code",
   "execution_count": 14,
   "metadata": {},
   "outputs": [
    {
     "name": "stdout",
     "output_type": "stream",
     "text": [
      "[groups1.csv] Bắt đầu đọc và chuẩn hóa dữ liệu JSON...\n",
      "----------------------------------------------------------------------\n",
      " BƯỚC 1 HOÀN TẤT: Đã tạo file CSV thô với 95051 hàng tại: groups1.csv\n",
      "----------------------------------------------------------------------\n"
     ]
    }
   ],
   "source": [
    "import json\n",
    "import pandas as pd\n",
    "import os\n",
    "\n",
    "def standardize_json_to_temp_csv(input_filepath, temp_filepath):\n",
    "\n",
    "    if not os.path.exists(input_filepath):\n",
    "        print(f\" Không tìm thấy file JSON tại: {input_filepath}\")\n",
    "        return\n",
    "        \n",
    "    print(f\"[{temp_filepath}] Bắt đầu đọc và chuẩn hóa dữ liệu JSON...\")\n",
    "    \n",
    "    try:\n",
    "        with open(input_filepath, 'r', encoding='utf-8') as f:\n",
    "            data = json.load(f)\n",
    "    except Exception as e:\n",
    "        print(f\" Lỗi khi đọc/phân tích JSON: {e}\")\n",
    "        return\n",
    "    \n",
    "    flat_data = []\n",
    "\n",
    "    for owner_id_key, content in data.items():\n",
    "        sha1_id = owner_id_key.replace(\".json\", \"\")\n",
    "        \n",
    "        if content and 'response' in content and 'groups' in content['response']:\n",
    "            for group in content['response']['groups']:\n",
    "                row = {\n",
    "                    'sha1_id': sha1_id,\n",
    "                    'gid': group.get('gid')\n",
    "                }\n",
    "                flat_data.append(row)\n",
    "\n",
    "    df = pd.DataFrame(flat_data)\n",
    "    \n",
    "    if df.empty:\n",
    "        print(\" Cảnh báo: Không tìm thấy dữ liệu hợp lệ để chuẩn hóa.\")\n",
    "        return\n",
    "\n",
    "    df.to_csv(temp_filepath, index=False)\n",
    "    \n",
    "    print(\"-\" * 70)\n",
    "    print(f\" BƯỚC 1 HOÀN TẤT: Đã tạo file CSV thô với {len(df)} hàng tại: {temp_filepath}\")\n",
    "    print(\"-\" * 70)\n",
    "\n",
    "# --- CẤU HÌNH THỰC THI CHO CHƯƠNG TRÌNH 1 ---\n",
    "INPUT_FILE = 'steam_cache/steam_cache_json/groups.json' # <-- Đổi tên file JSON của bạn\n",
    "TEMP_CSV_FILE = 'groups1.csv'\n",
    "\n",
    "standardize_json_to_temp_csv(INPUT_FILE, TEMP_CSV_FILE)"
   ]
  },
  {
   "cell_type": "markdown",
   "metadata": {},
   "source": [
    "---------------------------------------------------------------------------------------------------------------------"
   ]
  },
  {
   "cell_type": "markdown",
   "metadata": {},
   "source": [
    "# ĐƠN GIẢN HÓA USERID"
   ]
  },
  {
   "cell_type": "markdown",
   "metadata": {},
   "source": [
    "vÌ trong lúc crawl có nhiều file ko có steamid(user_id) làm ảnh hưởng đến việc mergh dữ liệu, nên sẽ thực hiện add id đơn giãn cho từng users từ trên xuống dưới"
   ]
  },
  {
   "cell_type": "markdown",
   "metadata": {},
   "source": [
    "Thêm Userid (dựa vào sha1_id ) và tùy theo từng file, mỗi file là một kiểu định dạng trường dữ liệu riêng ( chạy riêng và add cột tùy theo từng file)"
   ]
  },
  {
   "cell_type": "code",
   "execution_count": 25,
   "metadata": {},
   "outputs": [
    {
     "name": "stdout",
     "output_type": "stream",
     "text": [
      "[profiles_users1.csv] Bắt đầu định danh lại người dùng...\n",
      "----------------------------------------------------------------------\n",
      "✅ BƯỚC 2 HOÀN TẤT: Đã tạo 1949 User duy nhất.\n",
      "File CSV cuối cùng đã định dạng lại được lưu tại: profiles_users1.csv\n",
      "----------------------------------------------------------------------\n"
     ]
    }
   ],
   "source": [
    "import pandas as pd\n",
    "import os\n",
    "\n",
    "def rename_users(temp_filepath, final_filepath):\n",
    "    \n",
    "    if not os.path.exists(temp_filepath):\n",
    "        print(f\" Lỗi: Không tìm thấy file CSV tạm thời tại: {temp_filepath}\")\n",
    "        print(\"Vui lòng chạy Chương trình 1 trước.\")\n",
    "        return\n",
    "\n",
    "    print(f\"[{final_filepath}] Bắt đầu định danh lại người dùng...\")\n",
    "    \n",
    "    try:\n",
    "        # Đọc file CSV tạm thời\n",
    "        df = pd.read_csv(temp_filepath)\n",
    "    except Exception as e:\n",
    "        print(f\"Lỗi khi đọc file CSV tạm thời: {e}\")\n",
    "        return\n",
    "\n",
    "    if df.empty:\n",
    "        print(\" Cảnh báo: File CSV tạm thời không có dữ liệu.\")\n",
    "        return\n",
    "\n",
    "    # 1. Ánh xạ SHA1 ID sang User ID mới (User1, User2, ...)\n",
    "    df['steamid'] = df['steamid'].astype(str).str.strip()\n",
    "    \n",
    "    # Lấy danh sách sha1_id duy nhất theo thứ tự xuất hiện\n",
    "    unique_sha1_ids = df['steamid'].drop_duplicates().tolist()\n",
    "    \n",
    "    # Tạo ánh xạ (mapping)\n",
    "    user_id_map = {\n",
    "        sha1_id: f\"User{i+1}\" \n",
    "        for i, sha1_id in enumerate(unique_sha1_ids)\n",
    "    }\n",
    "\n",
    "    # Áp dụng ánh xạ để tạo cột 'user_id' mới\n",
    "    df['user_id'] = df['steamid'].map(user_id_map)\n",
    "\n",
    "    # 2. Ghi ra file CSV cuối cùng\n",
    "    df = df[['user_id', 'steamid', 'profilestate','personaname', 'avatarfull', 'personastate',\n",
    "             'realname', 'primaryclanid', 'timecreated','loccountrycode', 'locstatecode']]\n",
    "    df.to_csv(final_filepath, index=False)\n",
    "    \n",
    "    print(\"-\" * 70)\n",
    "    print(f\"BƯỚC 2 HOÀN TẤT: Đã tạo {len(unique_sha1_ids)} User duy nhất.\")\n",
    "    print(f\"File CSV cuối cùng đã định dạng lại được lưu tại: {final_filepath}\")\n",
    "    print(\"-\" * 70)\n",
    "\n",
    "# --- CẤU HÌNH THỰC THI CHO CHƯƠNG TRÌNH 2 ---\n",
    "TEMP_CSV_FILE = 'profiles_users.csv' # Phải khớp với tên file đầu ra của Chương trình 1\n",
    "FINAL_OUTPUT_FILE = 'profiles_users1.csv'\n",
    "\n",
    "rename_users(TEMP_CSV_FILE, FINAL_OUTPUT_FILE)"
   ]
  },
  {
   "cell_type": "markdown",
   "metadata": {},
   "source": [
    "XÓA SHA1_id "
   ]
  },
  {
   "cell_type": "markdown",
   "metadata": {},
   "source": [
    "sau khi đã có user_id thì thực hiện xóa sha_id để dữ liệu được thoáng và đẹp hơn"
   ]
  },
  {
   "cell_type": "code",
   "execution_count": 29,
   "metadata": {},
   "outputs": [
    {
     "name": "stdout",
     "output_type": "stream",
     "text": [
      "✅ XONG: Đã xóa cột 'sha1_id'. File mới: profiles_users4.csv\n"
     ]
    }
   ],
   "source": [
    "import pandas as pd\n",
    "import os\n",
    "\n",
    "def delete_column_concise(input_file, output_file):\n",
    "    \"\"\"Đọc CSV, xóa cột 'sha1_id', và lưu file mới.\"\"\"\n",
    "    \n",
    "    if not os.path.exists(input_file):\n",
    "        print(f\"❌ Lỗi: Không tìm thấy file tại: {input_file}\")\n",
    "        return\n",
    "\n",
    "    try:\n",
    "        df = pd.read_csv(input_file)\n",
    "        \n",
    "        # Kiểm tra và xóa cột\n",
    "        if 'steamid' in df.columns:\n",
    "            df.drop(columns=['steamid'], inplace=True)\n",
    "            df.to_csv(output_file, index=False)\n",
    "            print(f\"XONG: Đã xóa cột 'sha1_id'. File mới: {output_file}\")\n",
    "        else:\n",
    "            print(\" Lỗi: Không tìm thấy cột 'sha1_id'. Không có gì để xóa.\")\n",
    "            \n",
    "    except Exception as e:\n",
    "        print(f\"Lỗi: Đã xảy ra lỗi khi xử lý file: {e}\")\n",
    "\n",
    "# --- THỰC THI ---\n",
    "INPUT_FILE = 'profiles_users3.csv' \n",
    "OUTPUT_FILE = 'profiles_users4.csv'\n",
    "\n",
    "delete_column_concise(INPUT_FILE, OUTPUT_FILE)"
   ]
  },
  {
   "cell_type": "markdown",
   "metadata": {},
   "source": [
    "GỘP CÁC FILE ĐÃ XỬ LÝ ( Cùng User_id ) "
   ]
  },
  {
   "cell_type": "markdown",
   "metadata": {},
   "source": [
    "thực hiện gộp các file lại với nhau để việc tiền xử lý dữ liệu được dễ dàng và thuận lợi, trực quan hơn"
   ]
  },
  {
   "cell_type": "markdown",
   "metadata": {},
   "source": [
    "đầu tiên thực hiện gộp file achievements vào file user(chính) : bởi vì 2 file này có chung trường dữ liệu là steamid nên chỉ cần map tới là xong, ko cần phải xử lý user_id"
   ]
  },
  {
   "cell_type": "code",
   "execution_count": 28,
   "metadata": {},
   "outputs": [
    {
     "name": "stdout",
     "output_type": "stream",
     "text": [
      "Bắt đầu đọc và gộp dữ liệu (Thêm số lượng thành tích theo game)...\n",
      "File Profiles có 1949 người dùng.\n",
      "File Achievements có 181 người dùng duy nhất (đã gom).\n",
      "----------------------------------------------------------------------\n",
      "✅ HOÀN TẤT: Dữ liệu đã được gộp thành công.\n",
      "File đã gộp được lưu tại: profiles_users3.csv\n",
      "----------------------------------------------------------------------\n"
     ]
    }
   ],
   "source": [
    "import pandas as pd\n",
    "import os\n",
    "\n",
    "def merge_user_data_with_game_counts(profiles_file, achievements_file, output_file):\n",
    "   \n",
    "    if not os.path.exists(profiles_file) or not os.path.exists(achievements_file):\n",
    "        print(\" Lỗi: Không tìm thấy một hoặc cả hai file đầu vào.\")\n",
    "        return\n",
    "\n",
    "    print(\"Bắt đầu đọc và gộp dữ liệu (Thêm số lượng thành tích theo game)...\")\n",
    "    \n",
    "    try:\n",
    "        df_profiles = pd.read_csv(profiles_file)\n",
    "        df_achievements = pd.read_csv(achievements_file)\n",
    "    except Exception as e:\n",
    "        print(f\"Lỗi khi đọc file CSV: {e}\")\n",
    "        return\n",
    "\n",
    "    # Chuẩn hóa cột chung\n",
    "    df_profiles['steamid'] = df_profiles['steamid'].astype(str).str.strip()\n",
    "    df_achievements['steamid'] = df_achievements['steamid'].astype(str).str.strip()\n",
    "\n",
    "    if 'gameName' not in df_achievements.columns:\n",
    "        print(\" Lỗi: File achievements.csv thiếu cột 'gameName' (Tên Game).\")\n",
    "        return\n",
    "    \n",
    "    # 1. TÍNH SỐ LƯỢNG THÀNH TÍCH MỖI GAME CỦA MỖI USER\n",
    "    # Gom nhóm theo cả steamid và gameName để đếm số thành tích\n",
    "    df_game_counts = df_achievements.groupby(['steamid', 'gameName']).size().reset_index(name='achievements_count_per_game')\n",
    "\n",
    "    # 2. TỔNG HỢP KẾT QUẢ VÀ TÍNH TỔNG SỐ LƯỢNG THÀNH TÍCH\n",
    "    # Tạo chuỗi \"Tên Game (Số lượng)\"\n",
    "    df_game_counts['game_summary'] = (\n",
    "        df_game_counts['gameName'] + \n",
    "        ' (' + \n",
    "        df_game_counts['achievements_count_per_game'].astype(str) + \n",
    "        ')'\n",
    "    )\n",
    "\n",
    "    # Gom nhóm lần 2 theo steamid để tổng hợp các chuỗi và tính tổng số thành tích\n",
    "    df_achievements_summary = df_game_counts.groupby('steamid').agg(\n",
    "        # Tổng số thành tích (tính từ cột achivements_count_per_game)\n",
    "        total_achievements=('achievements_count_per_game', 'sum'),\n",
    "        # Nối tất cả các chuỗi tóm tắt game thành một\n",
    "        game_achievements_summary=('game_summary', ' | '.join)\n",
    "    ).reset_index()\n",
    "\n",
    "    print(f\"File Profiles có {len(df_profiles)} người dùng.\")\n",
    "    print(f\"File Achievements có {len(df_achievements_summary)} người dùng duy nhất (đã gom).\")\n",
    "\n",
    "    # 3. Gộp dữ liệu (Left Join)\n",
    "    df_merged = pd.merge(\n",
    "        df_profiles, \n",
    "        df_achievements_summary, \n",
    "        on='steamid', \n",
    "        how='left'\n",
    "    )\n",
    "\n",
    "    # 4. Ghi ra file CSV cuối cùng\n",
    "    df_merged.to_csv(output_file, index=False)\n",
    "\n",
    "    print(\"-\" * 70)\n",
    "    print(f\"HOÀN TẤT: Dữ liệu đã được gộp thành công.\")\n",
    "    print(f\"File đã gộp được lưu tại: {output_file}\")\n",
    "    print(\"-\" * 70)\n",
    "\n",
    "\n",
    "PROFILES_FILE = 'profiles_users.csv'      # File chứa thông tin profile (phần chính)\n",
    "ACHIEVEMENTS_FILE = 'achievements.csv' # File chứa thông tin thành tích\n",
    "OUTPUT_MERGED_FILE = 'profiles_users3.csv'\n",
    "# Thực thi hàm gộp\n",
    "merge_user_data_with_game_counts(PROFILES_FILE, ACHIEVEMENTS_FILE, OUTPUT_MERGED_FILE)\n",
    "\n"
   ]
  },
  {
   "cell_type": "markdown",
   "metadata": {},
   "source": [
    "Sau dó ta thực hiện tiếp tục gộp 2 file game và groups vào file users( chính ). vì sau khi đã xử lý user_id thì 3 file này đều có cùng trường dữ liệu là user_id."
   ]
  },
  {
   "cell_type": "markdown",
   "metadata": {},
   "source": [
    "gộp 2 file games với groups"
   ]
  },
  {
   "cell_type": "code",
   "execution_count": 32,
   "metadata": {},
   "outputs": [
    {
     "name": "stdout",
     "output_type": "stream",
     "text": [
      "Bắt đầu đọc và gộp dữ liệu từ 3 file...\n",
      "⚠️ Cảnh báo: File games.csv thiếu cột 'game_name'. Đang sử dụng đếm tổng số hàng.\n",
      "----------------------------------------------------------------------\n",
      "✅ HOÀN TẤT: Dữ liệu từ 3 file đã được gộp thành công.\n",
      "File đã gộp được lưu tại: master_user_data.csv\n",
      "----------------------------------------------------------------------\n"
     ]
    }
   ],
   "source": [
    "import pandas as pd\n",
    "import os\n",
    "\n",
    "def merge_three_files_fixed(profiles_file, games_file, groups_file, output_file):\n",
    "    \n",
    "    # 1. Kiểm tra sự tồn tại của file\n",
    "    files = [profiles_file, games_file, groups_file]\n",
    "    if not all(os.path.exists(f) for f in files):\n",
    "        print(\" Lỗi: Không tìm thấy một hoặc nhiều file đầu vào.\")\n",
    "        return\n",
    "\n",
    "    print(\"Bắt đầu đọc và gộp dữ liệu từ 3 file...\")\n",
    "    \n",
    "    try:\n",
    "        # Đọc dữ liệu\n",
    "        df_profiles = pd.read_csv(profiles_file)\n",
    "        df_games = pd.read_csv(games_file)\n",
    "        df_groups = pd.read_csv(groups_file)\n",
    "    except Exception as e:\n",
    "        print(f\" Lỗi khi đọc file CSV: {e}\")\n",
    "        return\n",
    "\n",
    "    # Chuẩn hóa cột chung 'user_id'\n",
    "    for df in [df_profiles, df_games, df_groups]:\n",
    "        if 'user_id' not in df.columns:\n",
    "            print(f\" Lỗi: Một trong các file thiếu cột 'user_id'.\")\n",
    "            return\n",
    "        df['user_id'] = df['user_id'].astype(str).str.strip()\n",
    "\n",
    "    # --- BƯỚC KHẮC PHỤC LỖI: Đảm bảo 'gid' là chuỗi ---\n",
    "    if 'gid' in df_groups.columns:\n",
    "        # CHUYỂN ĐỔI BẮT BUỘC: chuyển cột gid sang chuỗi (str) để hàm .join() hoạt động\n",
    "        df_groups['gid'] = df_groups['gid'].astype(str).str.strip() \n",
    "\n",
    " \n",
    "\n",
    "\n",
    "    # --- BƯỚC 3: XỬ LÝ VÀ TỔNG HỢP FILE GROUPS (Sử dụng cột gid đã chuyển đổi) ---\n",
    "    if 'gid' in df_groups.columns:\n",
    "        df_groups_summary = df_groups.groupby('user_id').agg(\n",
    "            total_groups=('gid', 'size'),\n",
    "            # Phép join giờ đây an toàn vì 'gid' đã là chuỗi\n",
    "            all_groups_gid=('gid', lambda x: ' | '.join(x.dropna().unique()))\n",
    "        ).reset_index()\n",
    "    else:\n",
    "        print(\" Cảnh báo: File groups.csv thiếu cột 'gid'. Đang sử dụng đếm tổng số hàng.\")\n",
    "        df_groups_summary = df_groups.groupby('user_id').agg(\n",
    "            total_groups=('user_id', 'size')\n",
    "        ).reset_index()\n",
    "\n",
    "\n",
    "    # --- BƯỚC 4: GỘP (LEFT JOIN) DỮ LIỆU ---\n",
    "    \n",
    "    # 4a. Gộp Profiles và Games\n",
    "    df_merged = pd.merge(\n",
    "        df_profiles,  \n",
    "        on='user_id', \n",
    "        how='left' \n",
    "    )\n",
    "\n",
    "    # 4b. Gộp kết quả (df_merged) và Groups\n",
    "    df_final = pd.merge(\n",
    "        df_merged, \n",
    "        df_groups_summary, \n",
    "        on='user_id', \n",
    "        how='left' \n",
    "    )\n",
    "\n",
    "    # 5. Ghi ra file CSV cuối cùng\n",
    "    df_final.to_csv(output_file, index=False)\n",
    "\n",
    "   \n",
    "    print(f\" HOÀN TẤT: Dữ liệu từ 3 file đã được gộp thành công.\")\n",
    "    print(f\"File đã gộp được lưu tại: {output_file}\")\n",
    " \n",
    "\n",
    "# --- CẤU HÌNH THỰC THI ---\n",
    "# THAY THẾ TÊN FILE CỦA BẠN!\n",
    "PROFILES_FILE = 'profiles_users4.csv'  # File chính (phải có cột user_id)\n",
    "GROUPS_FILE = 'groups.csv'           # File phụ 2 (phải có cột user_id)\n",
    "OUTPUT_MERGED_FILE = 'master_user_data.csv'\n",
    "\n",
    "# Thực thi hàm gộp\n",
    "merge_three_files_fixed(PROFILES_FILE, GROUPS_FILE, OUTPUT_MERGED_FILE)\n",
    "\n"
   ]
  },
  {
   "cell_type": "code",
   "execution_count": 30,
   "metadata": {},
   "outputs": [
    {
     "ename": "KeyError",
     "evalue": "'total_playtime_forever'",
     "output_type": "error",
     "traceback": [
      "\u001b[1;31m---------------------------------------------------------------------------\u001b[0m",
      "\u001b[1;31mKeyError\u001b[0m                                  Traceback (most recent call last)",
      "Cell \u001b[1;32mIn[30], line 43\u001b[0m\n\u001b[0;32m     40\u001b[0m df_games_summary \u001b[38;5;241m=\u001b[39m pd\u001b[38;5;241m.\u001b[39mDataFrame(summary_list)\n\u001b[0;32m     42\u001b[0m \u001b[38;5;66;03m# --- Chuyển phút → giờ ---\u001b[39;00m\n\u001b[1;32m---> 43\u001b[0m df_games_summary[\u001b[38;5;124m'\u001b[39m\u001b[38;5;124mtotal_playtime_hours\u001b[39m\u001b[38;5;124m'\u001b[39m] \u001b[38;5;241m=\u001b[39m \u001b[43mdf_games_summary\u001b[49m\u001b[43m[\u001b[49m\u001b[38;5;124;43m'\u001b[39;49m\u001b[38;5;124;43mtotal_playtime_forever\u001b[39;49m\u001b[38;5;124;43m'\u001b[39;49m\u001b[43m]\u001b[49m \u001b[38;5;241m/\u001b[39m \u001b[38;5;241m60\u001b[39m\n\u001b[0;32m     45\u001b[0m \u001b[38;5;28mprint\u001b[39m(df_games_summary\u001b[38;5;241m.\u001b[39mhead())\n",
      "File \u001b[1;32mc:\\Users\\Loc\\AppData\\Local\\Programs\\Python\\Python310\\lib\\site-packages\\pandas\\core\\frame.py:4102\u001b[0m, in \u001b[0;36mDataFrame.__getitem__\u001b[1;34m(self, key)\u001b[0m\n\u001b[0;32m   4100\u001b[0m \u001b[38;5;28;01mif\u001b[39;00m \u001b[38;5;28mself\u001b[39m\u001b[38;5;241m.\u001b[39mcolumns\u001b[38;5;241m.\u001b[39mnlevels \u001b[38;5;241m>\u001b[39m \u001b[38;5;241m1\u001b[39m:\n\u001b[0;32m   4101\u001b[0m     \u001b[38;5;28;01mreturn\u001b[39;00m \u001b[38;5;28mself\u001b[39m\u001b[38;5;241m.\u001b[39m_getitem_multilevel(key)\n\u001b[1;32m-> 4102\u001b[0m indexer \u001b[38;5;241m=\u001b[39m \u001b[38;5;28;43mself\u001b[39;49m\u001b[38;5;241;43m.\u001b[39;49m\u001b[43mcolumns\u001b[49m\u001b[38;5;241;43m.\u001b[39;49m\u001b[43mget_loc\u001b[49m\u001b[43m(\u001b[49m\u001b[43mkey\u001b[49m\u001b[43m)\u001b[49m\n\u001b[0;32m   4103\u001b[0m \u001b[38;5;28;01mif\u001b[39;00m is_integer(indexer):\n\u001b[0;32m   4104\u001b[0m     indexer \u001b[38;5;241m=\u001b[39m [indexer]\n",
      "File \u001b[1;32mc:\\Users\\Loc\\AppData\\Local\\Programs\\Python\\Python310\\lib\\site-packages\\pandas\\core\\indexes\\range.py:417\u001b[0m, in \u001b[0;36mRangeIndex.get_loc\u001b[1;34m(self, key)\u001b[0m\n\u001b[0;32m    415\u001b[0m         \u001b[38;5;28;01mraise\u001b[39;00m \u001b[38;5;167;01mKeyError\u001b[39;00m(key) \u001b[38;5;28;01mfrom\u001b[39;00m \u001b[38;5;21;01merr\u001b[39;00m\n\u001b[0;32m    416\u001b[0m \u001b[38;5;28;01mif\u001b[39;00m \u001b[38;5;28misinstance\u001b[39m(key, Hashable):\n\u001b[1;32m--> 417\u001b[0m     \u001b[38;5;28;01mraise\u001b[39;00m \u001b[38;5;167;01mKeyError\u001b[39;00m(key)\n\u001b[0;32m    418\u001b[0m \u001b[38;5;28mself\u001b[39m\u001b[38;5;241m.\u001b[39m_check_indexing_error(key)\n\u001b[0;32m    419\u001b[0m \u001b[38;5;28;01mraise\u001b[39;00m \u001b[38;5;167;01mKeyError\u001b[39;00m(key)\n",
      "\u001b[1;31mKeyError\u001b[0m: 'total_playtime_forever'"
     ]
    }
   ],
   "source": []
  },
  {
   "cell_type": "markdown",
   "metadata": {},
   "source": [
    "---------------------------------------------------------------------------------------------------------------------"
   ]
  },
  {
   "cell_type": "markdown",
   "metadata": {},
   "source": [
    "# TIỀN XỬ LÝ DỮ LIỆU"
   ]
  },
  {
   "cell_type": "markdown",
   "metadata": {},
   "source": [
    "## Xử lý dấu, ký tự, icon trong tên người dùng"
   ]
  },
  {
   "cell_type": "code",
   "execution_count": 1,
   "metadata": {},
   "outputs": [
    {
     "name": "stdout",
     "output_type": "stream",
     "text": [
      "Chuyển đổi xong! File JSON được lưu tại data_users1.json\n"
     ]
    }
   ],
   "source": [
    "import csv\n",
    "import json\n",
    "\n",
    "# Đường dẫn file CSV đầu vào và file JSON đầu ra\n",
    "csv_file_path = 'data_users.csv'\n",
    "json_file_path = 'data_users1.json'\n",
    "\n",
    "data = []\n",
    "\n",
    "# Đọc dữ liệu từ CSV\n",
    "with open(csv_file_path, mode='r', encoding='utf-8') as csv_file:\n",
    "    csv_reader = csv.DictReader(csv_file)  # Đọc mỗi dòng thành dict\n",
    "    for row in csv_reader:\n",
    "        data.append(row)\n",
    "\n",
    "# Ghi dữ liệu ra JSON\n",
    "with open(json_file_path, mode='w', encoding='utf-8') as json_file:\n",
    "    json.dump(data, json_file, indent=4, ensure_ascii=False)\n",
    "\n",
    "print(f\"Chuyển đổi xong! File JSON được lưu tại {json_file_path}\")\n"
   ]
  },
  {
   "cell_type": "markdown",
   "metadata": {},
   "source": [
    "CHỈNH SỬA LẠI TÊN USER - XÓA CÁC KÝ TỰ ĐẶC BIỆT"
   ]
  },
  {
   "cell_type": "code",
   "execution_count": 6,
   "metadata": {},
   "outputs": [
    {
     "name": "stdout",
     "output_type": "stream",
     "text": [
      "Xử lý xong.\n",
      "Dữ liệu đã được lưu\n"
     ]
    }
   ],
   "source": [
    "import pandas as pd\n",
    "import re\n",
    "# 1. Đọc JSON VÀ TRÍCH XUẤT DANH SÁCH PROFILES (Đã sửa)\n",
    "with open(\"data_users1.json\", \"r\", encoding=\"utf-8\") as f:\n",
    "    data = json.load(f)\n",
    "\n",
    "if isinstance(data, dict):\n",
    "    profiles_list = list(data.values())\n",
    "else:\n",
    "    profiles_list = data\n",
    "\n",
    "# Tạo DataFrame từ danh sách \n",
    "df = pd.DataFrame(profiles_list)\n",
    "\n",
    "# 2. Xử lý cột tên người dùng\n",
    "def clean_name(name):\n",
    "    if not isinstance(name, str):\n",
    "        return \"\"\n",
    "    \n",
    "    # Loại bỏký tự \n",
    "    name = re.sub(r\"[^a-zA-Z0-9À-ỹ\\s]\", \"\", name)\n",
    "\n",
    "    # Xóa khoảng trắng \n",
    "    name = re.sub(r\"\\s+\", \" \", name).strip()\n",
    "    return name\n",
    "\n",
    "if 'personaname' in df.columns:\n",
    "    df['personaname'] = df['personaname'].apply(clean_name)\n",
    "    print(\"Xử lý xong.\")\n",
    "else:\n",
    "    print(\" Cột lo tồn tại.\")\n",
    "\n",
    "# 3. Lưu ra CSV với UTF-8 \n",
    "df.to_csv(\"data_userss.csv\", index=False, encoding=\"utf-8-sig\")\n",
    "print(\"Dữ liệu đã được lưu\")"
   ]
  },
  {
   "cell_type": "code",
   "execution_count": null,
   "metadata": {},
   "outputs": [],
   "source": [
    "\n",
    "# Loại bỏ các dòng ko có userid \n",
    "#df_clean = df.dropna(subset=['steamid']).copy()\n",
    "\n",
    "# 2. Xóa CÁC CỘT CÓ GIÁ TRỊ KO QUAN TRỌNG\n",
    "# Điền giá trị mặc định\n",
    "#df_clean['commentpermission'].fillna(0, inplace=True)\n",
    "\n",
    "# Xóa các cột ( không quan trọng, thiếu nhiều)\n",
    "#df_clean = df_clean.drop(['loccityid', 'gameextrainfo', 'gameid', 'lobbysteamid', 'gameserverip', 'gameserversteamid'], axis=1)\n",
    "\n"
   ]
  },
  {
   "cell_type": "markdown",
   "metadata": {},
   "source": [
    "# TÌM DỮ LIỆU THIẾU\n"
   ]
  },
  {
   "cell_type": "code",
   "execution_count": 7,
   "metadata": {},
   "outputs": [
    {
     "name": "stdout",
     "output_type": "stream",
     "text": [
      "Thông tin dataset:\n",
      "<class 'pandas.core.frame.DataFrame'>\n",
      "RangeIndex: 1949 entries, 0 to 1948\n",
      "Data columns (total 15 columns):\n",
      " #   Column                     Non-Null Count  Dtype  \n",
      "---  ------                     --------------  -----  \n",
      " 0   user_id                    1949 non-null   object \n",
      " 1   profilestate               1921 non-null   float64\n",
      " 2   personaname                1850 non-null   object \n",
      " 3   avatarfull                 1921 non-null   object \n",
      " 4   personastate               1921 non-null   float64\n",
      " 5   realname                   910 non-null    object \n",
      " 6   primaryclanid              1772 non-null   float64\n",
      " 7   timecreated                1772 non-null   float64\n",
      " 8   loccountrycode             1349 non-null   object \n",
      " 9   locstatecode               837 non-null    object \n",
      " 10  total_achievements         178 non-null    float64\n",
      " 11  game_achievements_summary  178 non-null    object \n",
      " 12  total_games                1482 non-null   float64\n",
      " 13  total_groups               1693 non-null   float64\n",
      " 14  all_groups_gid             1693 non-null   object \n",
      "dtypes: float64(7), object(8)\n",
      "memory usage: 228.5+ KB\n",
      "None\n",
      "\n",
      "5 dòng đầu tiên:\n",
      "  user_id  profilestate       personaname  \\\n",
      "0   User1           1.0         Sói Bé Tí   \n",
      "1   User2           1.0           Xemesis   \n",
      "2   User3           1.0              Mixi   \n",
      "3   User4           1.0  Hoàng Anh Gaming   \n",
      "4   User5           1.0        Shu Ku Chi   \n",
      "\n",
      "                                          avatarfull  personastate  \\\n",
      "0  https://avatars.steamstatic.com/39855073114552...           0.0   \n",
      "1  https://avatars.steamstatic.com/3878009d0d4503...           0.0   \n",
      "2  https://avatars.steamstatic.com/8b2dd2c961f536...           0.0   \n",
      "3  https://avatars.steamstatic.com/fc5d8974fd3b0c...           0.0   \n",
      "4  https://avatars.steamstatic.com/be6c9a69f3156e...           0.0   \n",
      "\n",
      "          realname  primaryclanid   timecreated loccountrycode locstatecode  \\\n",
      "0       Mixigaming   1.035828e+17  1.458929e+09             VN           05   \n",
      "1      Hieu Nghiem   1.035828e+17  1.107715e+09             VN          NaN   \n",
      "2  ❤ Mixi Nguyễn ❤   1.035828e+17  1.192983e+09             VN           51   \n",
      "3        Hoàng Anh   1.035828e+17  1.312787e+09             VN           51   \n",
      "4              NaN   1.035828e+17  1.334398e+09             VN           51   \n",
      "\n",
      "   total_achievements                          game_achievements_summary  \\\n",
      "0                70.0  ARK: Survival Evolved (32) | Counter-Strike 2 ...   \n",
      "1                 NaN                                                NaN   \n",
      "2                 NaN                                                NaN   \n",
      "3               652.0  Arma 3 (123) | Company of Heroes 2 (452) | Gra...   \n",
      "4                51.0  Counter-Strike 2 (1) | Mortal Kombat Komplete ...   \n",
      "\n",
      "   total_games  total_groups  \\\n",
      "0          1.0          16.0   \n",
      "1        105.0          10.0   \n",
      "2          2.0           9.0   \n",
      "3          2.0          47.0   \n",
      "4         40.0           9.0   \n",
      "\n",
      "                                      all_groups_gid  \n",
      "0  72727 | 554117 | 1985042 | 2807443 | 3946385 |...  \n",
      "1  2370668 | 3284297 | 3381077 | 5151157 | 854899...  \n",
      "2  554117 | 3381077 | 8729288 | 10011448 | 163946...  \n",
      "3  4984 | 345384 | 3284297 | 4458711 | 4755837 | ...  \n",
      "4  4458711 | 4741524 | 4857785 | 22128230 | 25300...  \n",
      "\n",
      "Giá trị thiếu trong từng cột:\n",
      "user_id                         0\n",
      "profilestate                   28\n",
      "personaname                    99\n",
      "avatarfull                     28\n",
      "personastate                   28\n",
      "realname                     1039\n",
      "primaryclanid                 177\n",
      "timecreated                   177\n",
      "loccountrycode                600\n",
      "locstatecode                 1112\n",
      "total_achievements           1771\n",
      "game_achievements_summary    1771\n",
      "total_games                   467\n",
      "total_groups                  256\n",
      "all_groups_gid                256\n",
      "dtype: int64\n"
     ]
    }
   ],
   "source": [
    "import pandas as pd\n",
    "\n",
    "\n",
    "# Bước 1: Đọc file\n",
    "df = pd.read_csv('data_users.csv')  # \n",
    "\n",
    "# Bước 2: Xem cấu trúc dữ liệu\n",
    "print(\"Thông tin dataset:\")\n",
    "print(df.info())\n",
    "print(\"\\n5 dòng đầu tiên:\")\n",
    "print(df.head())\n",
    "\n",
    "# Bước 3: Kiểm tra giá trị thiếu\n",
    "print(\"\\nGiá trị thiếu trong từng cột:\")\n",
    "print(df.isnull().sum())\n",
    "\n"
   ]
  },
  {
   "cell_type": "markdown",
   "metadata": {},
   "source": [
    "## XỬ LÝ DỮ LIỆU THIÉU"
   ]
  },
  {
   "cell_type": "code",
   "execution_count": 21,
   "metadata": {},
   "outputs": [
    {
     "name": "stdout",
     "output_type": "stream",
     "text": [
      "          timecreated  account_age_days\n",
      "0 2016-03-25 18:03:47              3472\n",
      "1 2005-02-06 18:39:24              7537\n",
      "2 2007-10-21 16:02:36              6550\n",
      "3 2011-08-08 07:09:06              5164\n",
      "4 2012-04-14 09:59:06              4914\n",
      "<class 'pandas.core.frame.DataFrame'>\n",
      "RangeIndex: 1955 entries, 0 to 1954\n",
      "Data columns (total 16 columns):\n",
      " #   Column                     Non-Null Count  Dtype         \n",
      "---  ------                     --------------  -----         \n",
      " 0   user_id                    1955 non-null   object        \n",
      " 1   profilestate               1955 non-null   float64       \n",
      " 2   personaname                1955 non-null   object        \n",
      " 3   avatarfull                 1955 non-null   object        \n",
      " 4   personastate               1955 non-null   float64       \n",
      " 5   realname                   1955 non-null   object        \n",
      " 6   primaryclanid              1955 non-null   object        \n",
      " 7   timecreated                1955 non-null   datetime64[ns]\n",
      " 8   loccountrycode             1955 non-null   object        \n",
      " 9   locstatecode               1955 non-null   object        \n",
      " 10  total_achievements         1955 non-null   float64       \n",
      " 11  game_achievements_summary  178 non-null    object        \n",
      " 12  total_games                1955 non-null   float64       \n",
      " 13  total_groups               1955 non-null   float64       \n",
      " 14  all_groups_gid             1955 non-null   object        \n",
      " 15  account_age_days           1955 non-null   int64         \n",
      "dtypes: datetime64[ns](1), float64(5), int64(1), object(9)\n",
      "memory usage: 244.5+ KB\n",
      "None\n"
     ]
    }
   ],
   "source": [
    "\n",
    "import numpy as np\n",
    "import random\n",
    "\n",
    "# 1: Đọc dataset \n",
    "df = pd.read_csv('data_users.csv')\n",
    "\n",
    "#  2: Xử lý missing values\n",
    "# Numeric / state\n",
    "df['profilestate'] = df['profilestate'].fillna(0)\n",
    "df['personastate'] = df['personastate'].fillna(df['personastate'].median())\n",
    "df['total_games'] = df['total_games'].fillna(df['total_games'].median())\n",
    "df['total_groups'] = df['total_groups'].fillna(0)\n",
    "\n",
    "# String / object\n",
    "df['personaname'] = df['personaname'].fillna('Unknown')\n",
    "df['realname'] = df['realname'].fillna('Unknown')\n",
    "df['avatarfull'] = df['avatarfull'].fillna('Unknown')\n",
    "df['primaryclanid'] = df['primaryclanid'].fillna('None')\n",
    "df['all_groups_gid'] = df['all_groups_gid'].fillna('[]')\n",
    "\n",
    "# Location\n",
    "df['loccountrycode'] = df['loccountrycode'].fillna('VN')\n",
    "\n",
    "def fill_locstate(row):\n",
    "    if row['loccountrycode'] == 'VN':\n",
    "        if pd.isnull(row['locstatecode']):\n",
    "            return str(random.randint(1, 63))  # VN có 63 tỉnh\n",
    "        else:\n",
    "            return row['locstatecode']\n",
    "    else:\n",
    "        return 'Unknown'\n",
    "\n",
    "df['locstatecode'] = df.apply(fill_locstate, axis=1)\n",
    "\n",
    "# Achievements\n",
    "df['total_achievements'] = df['total_achievements'].fillna(0)\n",
    "df['game_achievements_summary'] = df['game_achievements_summary'].where(df['game_achievements_summary'].notnull(), None)\n",
    "\n",
    "#  3: Chuyển timecreated sang datetime \n",
    "df['timecreated'] = pd.to_datetime(df['timecreated'], errors='coerce')\n",
    "median_time = df['timecreated'].median()\n",
    "df['timecreated'] = df['timecreated'].fillna(median_time)\n",
    "\n",
    "#  4: Tạo feature numeric account_age_days \n",
    "df['account_age_days'] = (pd.Timestamp('now') - df['timecreated']).dt.days\n",
    "\n",
    "#  5: Kiểm tra\n",
    "print(df[['timecreated','account_age_days']].head())\n",
    "print(df.info())\n",
    "\n",
    "#  6: Lưu \n",
    "df.to_csv('data_users1.csv', index=False, encoding='utf-8-sig')\n",
    "\n"
   ]
  },
  {
   "cell_type": "markdown",
   "metadata": {},
   "source": [
    "OUTLIERS"
   ]
  },
  {
   "cell_type": "code",
   "execution_count": 25,
   "metadata": {},
   "outputs": [
    {
     "name": "stdout",
     "output_type": "stream",
     "text": [
      "       total_games  total_groups  account_age_days  total_achievements\n",
      "count  1955.000000   1955.000000       1955.000000              1955.0\n",
      "mean     52.770716     18.745780       4104.603069                 0.0\n",
      "std      60.631357     20.417929        849.258733                 0.0\n",
      "min       1.000000      0.000000       2162.250000                 0.0\n",
      "25%       6.000000      3.000000       3600.000000                 0.0\n",
      "50%      27.500000     11.000000       4102.000000                 0.0\n",
      "75%      75.500000     27.000000       4558.500000                 0.0\n",
      "max     179.750000     63.000000       5996.250000                 0.0\n",
      "Đã xử lý outliers và lưu file CSV!\n"
     ]
    }
   ],
   "source": [
    "import pandas as pd\n",
    "\n",
    "# --- Bước 1: Đọc dataset đã tiền xử lý ---\n",
    "df = pd.read_csv('data_users1.csv')\n",
    "\n",
    "# --- Bước 2: Chọn các cột numeric cần xử lý outliers ---\n",
    "numeric_cols = ['total_games', 'total_groups', 'account_age_days', 'total_achievements']\n",
    "\n",
    "# --- Bước 3: Xử lý outliers bằng IQR + clipping ---\n",
    "for col in numeric_cols:\n",
    "    Q1 = df[col].quantile(0.25)\n",
    "    Q3 = df[col].quantile(0.75)\n",
    "    IQR = Q3 - Q1\n",
    "    lower_bound = Q1 - 1.5 * IQR\n",
    "    upper_bound = Q3 + 1.5 * IQR\n",
    "    \n",
    "    # Clip giá trị ngoài biên\n",
    "    df[col] = df[col].clip(lower=lower_bound, upper=upper_bound)\n",
    "\n",
    "# --- Bước 4: Kiểm tra kết quả ---\n",
    "print(df[numeric_cols].describe())\n",
    "\n",
    "# --- Bước 5: Lưu CSV đã xử lý outliers ---\n",
    "df.to_csv('data_users2.csv', index=False, encoding='utf-8-sig')\n",
    "print(\"Đã xử lý outliers và lưu file CSV!\")\n"
   ]
  },
  {
   "cell_type": "code",
   "execution_count": 26,
   "metadata": {},
   "outputs": [
    {
     "data": {
      "image/png": "[encoded data removed]",
      "text/plain": [
       "<Figure size 1200x500 with 2 Axes>"
      ]
     },
     "metadata": {},
     "output_type": "display_data"
    },
    {
     "data": {
      "image/png": "[encoded data removed]",
      "text/plain": [
       "<Figure size 1200x500 with 2 Axes>"
      ]
     },
     "metadata": {},
     "output_type": "display_data"
    },
    {
     "data": {
      "image/png": "[encoded data removed]",
      "text/plain": [
       "<Figure size 1200x500 with 2 Axes>"
      ]
     },
     "metadata": {},
     "output_type": "display_data"
    },
    {
     "data": {
      "image/png": "[encoded data removed]",
      "text/plain": [
       "<Figure size 1200x500 with 2 Axes>"
      ]
     },
     "metadata": {},
     "output_type": "display_data"
    }
   ],
   "source": [
    "import pandas as pd\n",
    "import matplotlib.pyplot as plt\n",
    "import seaborn as sns\n",
    "\n",
    "# --- Bước 1: Đọc dữ liệu trước và sau xử lý outliers ---\n",
    "df_before = pd.read_csv('data_users1.csv')      # trước xử lý outliers\n",
    "df_after = pd.read_csv('data_users2.csv')       # sau xử lý outliers\n",
    "\n",
    "numeric_cols = ['total_games', 'total_groups', 'account_age_days', 'total_achievements']\n",
    "\n",
    "# --- Bước 2: Vẽ boxplot so sánh trước và sau ---\n",
    "for col in numeric_cols:\n",
    "    plt.figure(figsize=(12,5))\n",
    "    \n",
    "    # Boxplot trước xử lý\n",
    "    plt.subplot(1,2,1)\n",
    "    sns.boxplot(y=df_before[col])\n",
    "    plt.title(f'{col} - Trước xử lý outliers')\n",
    "    \n",
    "    # Boxplot sau xử lý\n",
    "    plt.subplot(1,2,2)\n",
    "    sns.boxplot(y=df_after[col])\n",
    "    plt.title(f'{col} - Sau xử lý outliers')\n",
    "    \n",
    "    plt.tight_layout()\n",
    "    plt.show()\n"
   ]
  },
  {
   "cell_type": "markdown",
   "metadata": {},
   "source": [
    "XỬ LÝ TIMECREATED"
   ]
  },
  {
   "cell_type": "code",
   "execution_count": 22,
   "metadata": {},
   "outputs": [
    {
     "name": "stdout",
     "output_type": "stream",
     "text": [
      "\n",
      " XỬ LÝ TIMECREATED\n",
      "Dòng có timecreated: 1955\n",
      "Dòng không có timecreated: 0\n"
     ]
    }
   ],
   "source": [
    "import pandas as pd\n",
    "import matplotlib.pyplot as plt\n",
    "import seaborn as sns\n",
    "import numpy as np\n",
    "from datetime import datetime\n",
    "\n",
    "# 1 XỬ LÝ TIMECREATED - TÁCH THÀNH 2 NHÓM\n",
    "print(f\"\\n XỬ LÝ TIMECREATED\")\n",
    "print(f\"Dòng có timecreated: {df['timecreated'].notna().sum()}\")\n",
    "print(f\"Dòng không có timecreated: {df['timecreated'].isna().sum()}\")\n",
    "\n",
    "# Tạo cột datetime chỉ cho dòng có timecreated\n",
    "df['account_created'] = pd.to_datetime(df['timecreated'], unit='s', errors='coerce')\n",
    "df['account_age_days'] = (datetime.now() - df['account_created']).dt.days\n"
   ]
  },
  {
   "cell_type": "code",
   "execution_count": 23,
   "metadata": {},
   "outputs": [
    {
     "name": "stdout",
     "output_type": "stream",
     "text": [
      "\n",
      " PHÂN TÍCH TUỔI TÀI KHOẢN \n",
      " SỐ TÀI KHOẢN ĐƯỢC TẠO THEO NĂM:\n",
      "  2003: 6 tài khoản\n",
      "  2004: 19 tài khoản\n",
      "  2005: 10 tài khoản\n",
      "  2006: 4 tài khoản\n",
      "  2007: 16 tài khoản\n",
      "  2008: 23 tài khoản\n",
      "  2009: 31 tài khoản\n",
      "  2010: 46 tài khoản\n",
      "  2011: 106 tài khoản\n",
      "  2012: 172 tài khoản\n",
      "  2013: 268 tài khoản\n",
      "  2014: 531 tài khoản\n",
      "  2015: 275 tài khoản\n",
      "  2016: 198 tài khoản\n",
      "  2017: 112 tài khoản\n",
      "  2018: 59 tài khoản\n",
      "  2019: 22 tài khoản\n",
      "  2020: 23 tài khoản\n",
      "  2021: 17 tài khoản\n",
      "  2022: 12 tài khoản\n",
      "  2023: 5 tài khoản\n",
      "\n",
      " THỐNG KÊ :\n",
      "  • Tuổi trung bình: 4127 ngày (~11.3 năm)\n",
      "  • Tuổi trung vị: 4102 ngày\n",
      "  • Tài khoản cũ nhất: 8050 ngày (~22.1 năm)\n",
      "  • Tài khoản mới nhất: 731 ngày (~2.0 năm)\n"
     ]
    },
    {
     "data": {
      "image/png": "[encoded data removed]",
      "text/plain": [
       "<Figure size 1200x600 with 1 Axes>"
      ]
     },
     "metadata": {},
     "output_type": "display_data"
    }
   ],
   "source": [
    "# 5. PHÂN TÍCH THỜI GIAN (CHỈ CHO USER CÓ TIMECREATED)\n",
    "\n",
    "print(\"\\n PHÂN TÍCH TUỔI TÀI KHOẢN \")\n",
    "\n",
    "users_with_timecreated = df[df['timecreated'].notna()]\n",
    "\n",
    "if len(users_with_timecreated) > 0:\n",
    "    # Phân bố theo năm\n",
    "    users_with_timecreated['year_created'] = users_with_timecreated['account_created'].dt.year\n",
    "    yearly_creation = users_with_timecreated['year_created'].value_counts().sort_index()\n",
    "    \n",
    "    print(\" SỐ TÀI KHOẢN ĐƯỢC TẠO THEO NĂM:\")\n",
    "    for year, count in yearly_creation.items():\n",
    "        print(f\"  {year}: {count} tài khoản\")\n",
    "    \n",
    "    # Thống kê tuổi tài khoản\n",
    "    print(f\"\\n THỐNG KÊ :\")\n",
    "    print(f\"  • Tuổi trung bình: {users_with_timecreated['account_age_days'].mean():.0f} ngày (~{users_with_timecreated['account_age_days'].mean()/365:.1f} năm)\")\n",
    "    print(f\"  • Tuổi trung vị: {users_with_timecreated['account_age_days'].median():.0f} ngày\")\n",
    "    print(f\"  • Tài khoản cũ nhất: {users_with_timecreated['account_age_days'].max():.0f} ngày (~{users_with_timecreated['account_age_days'].max()/365:.1f} năm)\")\n",
    "    print(f\"  • Tài khoản mới nhất: {users_with_timecreated['account_age_days'].min():.0f} ngày (~{users_with_timecreated['account_age_days'].min()/365:.1f} năm)\")\n",
    "    \n",
    "    # Biểu đồ năm tạo tài khoản\n",
    "    plt.figure(figsize=(12, 6))\n",
    "    yearly_creation.plot(kind='bar', color='lightgreen')\n",
    "    plt.title('SỐ TÀI KHOẢN STEAM ĐƯỢC TẠO THEO NĂM', fontsize=14, fontweight='bold')\n",
    "    plt.xlabel('Năm')\n",
    "    plt.ylabel('Số lượng tài khoản')\n",
    "    plt.grid(axis='y', alpha=0.3)\n",
    "    plt.tight_layout()\n",
    "    plt.show()"
   ]
  },
  {
   "cell_type": "code",
   "execution_count": 14,
   "metadata": {},
   "outputs": [
    {
     "name": "stdout",
     "output_type": "stream",
     "text": [
      "PHÂN TÍCH TỔNG QUAN - 1949 USER STEAM\n",
      " THỐNG KÊ PROFILE:\n",
      "• Có tên thật: 910/1949 (46.7%)\n",
      "• Có quốc gia: 1349/1949 (69.2%)\n",
      "• Có timecreated: 1772/1949 (90.9%)\n"
     ]
    }
   ],
   "source": [
    "\n",
    "# 3. PHÂN TÍCH TỔNG QUAN\n",
    "print(\"PHÂN TÍCH TỔNG QUAN - 1949 USER STEAM\")\n",
    "# Thống kê cơ bản\n",
    "has_realname = df['realname'].notna().sum()\n",
    "has_country = df['loccountrycode'].notna().sum()\n",
    "\n",
    "print(f\" THỐNG KÊ PROFILE:\")\n",
    "print(f\"• Có tên thật: {has_realname}/{len(df)} ({has_realname/len(df)*100:.1f}%)\")\n",
    "print(f\"• Có quốc gia: {has_country}/{len(df)} ({has_country/len(df)*100:.1f}%)\")\n",
    "print(f\"• Có timecreated: {df['timecreated'].notna().sum()}/{len(df)} ({(df['timecreated'].notna().sum()/len(df))*100:.1f}%)\")\n",
    "\n",
    "\n",
    "    \n"
   ]
  },
  {
   "cell_type": "code",
   "execution_count": 24,
   "metadata": {},
   "outputs": [
    {
     "name": "stdout",
     "output_type": "stream",
     "text": [
      "\n",
      "============================================================\n",
      "PHÂN TÍCH ĐỊA LÝ NGƯỜI DÙNG\n",
      "============================================================\n",
      " TOP 10 QUỐC GIA:\n",
      "  VN: 1238 users (91.8%)\n",
      "  US: 111 users (8.2%)\n",
      "  JP: 51 users (3.8%)\n",
      "  GB: 46 users (3.4%)\n",
      "  DE: 42 users (3.1%)\n",
      "  RU: 33 users (2.4%)\n",
      "  FR: 31 users (2.3%)\n",
      "  CA: 28 users (2.1%)\n",
      "  CN: 22 users (1.6%)\n",
      "  KR: 20 users (1.5%)\n"
     ]
    },
    {
     "data": {
      "image/png": "[encoded data removed]",
      "text/plain": [
       "<Figure size 1200x600 with 1 Axes>"
      ]
     },
     "metadata": {},
     "output_type": "display_data"
    }
   ],
   "source": [
    "# 4. PHÂN TÍCH ĐỊA LÝ\n",
    "print(\"\\n\" + \"=\"*60)\n",
    "print(\"PHÂN TÍCH ĐỊA LÝ NGƯỜI DÙNG\")\n",
    "print(\"=\"*60)\n",
    "\n",
    "if has_country > 0:\n",
    "    country_stats = df['loccountrycode'].value_counts().head(10)\n",
    "    print(\" TOP 10 QUỐC GIA:\")\n",
    "    for country, count in country_stats.items():\n",
    "        percentage = (count / has_country) * 100\n",
    "        print(f\"  {country}: {count} users ({percentage:.1f}%)\")\n",
    "    \n",
    "    # Biểu đồ quốc gia\n",
    "    plt.figure(figsize=(12, 6))\n",
    "    country_stats.head(10).plot(kind='bar', color='skyblue')\n",
    "    plt.title('TOP 10 QUỐC GIA CỦA NGƯỜI DÙNG STEAM', fontsize=14, fontweight='bold')\n",
    "    plt.xlabel('Mã Quốc Gia')\n",
    "    plt.ylabel('Số lượng người dùng')\n",
    "    plt.xticks(rotation=45)\n",
    "    plt.grid(axis='y', alpha=0.3)\n",
    "    plt.tight_layout()\n",
    "    plt.show()\n",
    "else:\n",
    "    print(\" Lỗi \")\n",
    "\n"
   ]
  },
  {
   "cell_type": "code",
   "execution_count": 16,
   "metadata": {},
   "outputs": [
    {
     "name": "stdout",
     "output_type": "stream",
     "text": [
      "PHÂN TÍCH TỔNG QUAN\n",
      "\n",
      "PHÂN BỐ TRẠNG THÁI ONLINE:\n",
      "personastate\n",
      "0.0    1771\n",
      "1.0      92\n",
      "3.0      36\n",
      "4.0      22\n",
      "Name: count, dtype: int64\n"
     ]
    }
   ],
   "source": [
    "# 3. PHÂN TÍKH KHÁM PHÁ (EDA) - TRẢ LỜI CÂU HỎI CƠ BẢN\n",
    "\n",
    "print(\"PHÂN TÍCH TỔNG QUAN\")\n",
    "# Phân bố trạng thái online\n",
    "print(\"\\nPHÂN BỐ TRẠNG THÁI ONLINE:\")\n",
    "print(df['personastate'].value_counts())\n",
    "\n",
    "\n",
    "\n",
    "\n",
    "\n",
    "\n",
    "\n"
   ]
  }
 ],
 "metadata": {
  "kernelspec": {
   "display_name": "Python 3",
   "language": "python",
   "name": "python3"
  },
  "language_info": {
   "codemirror_mode": {
    "name": "ipython",
    "version": 3
   },
   "file_extension": ".py",
   "mimetype": "text/x-python",
   "name": "python",
   "nbconvert_exporter": "python",
   "pygments_lexer": "ipython3",
   "version": "3.10.7"
  }
 },
 "nbformat": 4,
 "nbformat_minor": 2
}
